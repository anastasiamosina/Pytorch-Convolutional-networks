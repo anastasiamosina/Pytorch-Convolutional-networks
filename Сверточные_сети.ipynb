{
  "cells": [
    {
      "cell_type": "markdown",
      "metadata": {
        "id": "E0jfAtiQsZ5v"
      },
      "source": [
        "**Задание**\n",
        "\n",
        "Постройте модель, используя архитектуру со свёрточными слоями, для классификации Fashion MNIST. Итоговое качество (accuracy) должно быть не ниже 89,5.\n",
        "\n",
        "Инструкция к выполнению задания\n",
        "\n",
        "Скачайте тренировочную и тестовою часть датасета Fashion MNIST\n",
        "Постройте архитектуру модели, используя свёрточные слои, слои регуляризации и один финальный полносвязный слой\n",
        "Обучите модель до необходимого качества. Если сеть не обучается до необходимого качества, попробуйте поменять архитектуру сети, варьируя параметры свёрток, количество каналов, количество свёрточных слоёв, слои регуляризации, тип оптимайзера и т. д.\n",
        "Формат сдачи работы\n",
        "Прикрепите ссылку на готовое решение в личном кабинете. Работу можно отправлять в виде ссылки на python-ноутбук из GitHub, Google Colaboratory или аналогичных платформ. Не забудьте открыть доступ на просмотр и комментирование."
      ]
    },
    {
      "cell_type": "code",
      "execution_count": 3,
      "metadata": {
        "id": "ylvI8K2ksm1k"
      },
      "outputs": [],
      "source": [
        "import torchvision as tv\n",
        "import time\n",
        "import matplotlib.pyplot as plt"
      ]
    },
    {
      "cell_type": "code",
      "execution_count": 4,
      "metadata": {
        "id": "jjNsdN1dtB-o"
      },
      "outputs": [],
      "source": [
        "import torch\n",
        "from torch import nn"
      ]
    },
    {
      "cell_type": "code",
      "execution_count": 5,
      "metadata": {
        "id": "kl_VeP-isjDj"
      },
      "outputs": [],
      "source": [
        "BATCH_SIZE = 256"
      ]
    },
    {
      "cell_type": "code",
      "execution_count": 6,
      "metadata": {
        "id": "ThG2B8L2sv9u"
      },
      "outputs": [],
      "source": [
        "transforms = tv.transforms.Compose([\n",
        "    tv.transforms.Resize(32),\n",
        "    tv.transforms.ToTensor()\n",
        "])"
      ]
    },
    {
      "cell_type": "code",
      "execution_count": 7,
      "metadata": {
        "id": "P-R9IEauswDB",
        "colab": {
          "base_uri": "https://localhost:8080/"
        },
        "outputId": "74e2b679-84d6-43a8-b81c-e1a6ebd1a06d"
      },
      "outputs": [
        {
          "output_type": "stream",
          "name": "stdout",
          "text": [
            "Downloading http://fashion-mnist.s3-website.eu-central-1.amazonaws.com/train-images-idx3-ubyte.gz\n",
            "Downloading http://fashion-mnist.s3-website.eu-central-1.amazonaws.com/train-images-idx3-ubyte.gz to ./FashionMNIST/raw/train-images-idx3-ubyte.gz\n"
          ]
        },
        {
          "output_type": "stream",
          "name": "stderr",
          "text": [
            "100%|██████████| 26421880/26421880 [00:02<00:00, 11114410.39it/s]\n"
          ]
        },
        {
          "output_type": "stream",
          "name": "stdout",
          "text": [
            "Extracting ./FashionMNIST/raw/train-images-idx3-ubyte.gz to ./FashionMNIST/raw\n",
            "\n",
            "Downloading http://fashion-mnist.s3-website.eu-central-1.amazonaws.com/train-labels-idx1-ubyte.gz\n",
            "Downloading http://fashion-mnist.s3-website.eu-central-1.amazonaws.com/train-labels-idx1-ubyte.gz to ./FashionMNIST/raw/train-labels-idx1-ubyte.gz\n"
          ]
        },
        {
          "output_type": "stream",
          "name": "stderr",
          "text": [
            "100%|██████████| 29515/29515 [00:00<00:00, 198275.80it/s]\n"
          ]
        },
        {
          "output_type": "stream",
          "name": "stdout",
          "text": [
            "Extracting ./FashionMNIST/raw/train-labels-idx1-ubyte.gz to ./FashionMNIST/raw\n",
            "\n",
            "Downloading http://fashion-mnist.s3-website.eu-central-1.amazonaws.com/t10k-images-idx3-ubyte.gz\n",
            "Downloading http://fashion-mnist.s3-website.eu-central-1.amazonaws.com/t10k-images-idx3-ubyte.gz to ./FashionMNIST/raw/t10k-images-idx3-ubyte.gz\n"
          ]
        },
        {
          "output_type": "stream",
          "name": "stderr",
          "text": [
            "100%|██████████| 4422102/4422102 [00:01<00:00, 3703614.83it/s]\n"
          ]
        },
        {
          "output_type": "stream",
          "name": "stdout",
          "text": [
            "Extracting ./FashionMNIST/raw/t10k-images-idx3-ubyte.gz to ./FashionMNIST/raw\n",
            "\n",
            "Downloading http://fashion-mnist.s3-website.eu-central-1.amazonaws.com/t10k-labels-idx1-ubyte.gz\n",
            "Downloading http://fashion-mnist.s3-website.eu-central-1.amazonaws.com/t10k-labels-idx1-ubyte.gz to ./FashionMNIST/raw/t10k-labels-idx1-ubyte.gz\n"
          ]
        },
        {
          "output_type": "stream",
          "name": "stderr",
          "text": [
            "100%|██████████| 5148/5148 [00:00<00:00, 17963624.79it/s]\n"
          ]
        },
        {
          "output_type": "stream",
          "name": "stdout",
          "text": [
            "Extracting ./FashionMNIST/raw/t10k-labels-idx1-ubyte.gz to ./FashionMNIST/raw\n",
            "\n"
          ]
        }
      ],
      "source": [
        "train_dataset = tv.datasets.FashionMNIST('.',\n",
        "                                  train=True,\n",
        "                                  transform=transforms,\n",
        "                                  download=True)\n",
        "\n",
        "test_dataset = tv.datasets.FashionMNIST('.',\n",
        "                                 train=False,\n",
        "                                 transform=transforms,\n",
        "                                 download=True)\n",
        "\n",
        "train_iter = torch.utils.data.DataLoader(train_dataset, batch_size=BATCH_SIZE)\n",
        "test_iter = torch.utils.data.DataLoader(test_dataset, batch_size=BATCH_SIZE)"
      ]
    },
    {
      "cell_type": "code",
      "execution_count": 8,
      "metadata": {
        "colab": {
          "base_uri": "https://localhost:8080/"
        },
        "id": "OV6jjPZYswGO",
        "outputId": "1d1d082d-a760-458d-cdb2-1dd27bf2c487"
      },
      "outputs": [
        {
          "output_type": "execute_result",
          "data": {
            "text/plain": [
              "(tensor([[[0., 0., 0.,  ..., 0., 0., 0.],\n",
              "          [0., 0., 0.,  ..., 0., 0., 0.],\n",
              "          [0., 0., 0.,  ..., 0., 0., 0.],\n",
              "          ...,\n",
              "          [0., 0., 0.,  ..., 0., 0., 0.],\n",
              "          [0., 0., 0.,  ..., 0., 0., 0.],\n",
              "          [0., 0., 0.,  ..., 0., 0., 0.]]]),\n",
              " 9)"
            ]
          },
          "metadata": {},
          "execution_count": 8
        }
      ],
      "source": [
        "train_dataset[0]"
      ]
    },
    {
      "cell_type": "code",
      "execution_count": null,
      "metadata": {
        "colab": {
          "base_uri": "https://localhost:8080/",
          "height": 430
        },
        "id": "zN5rNzmfswIk",
        "outputId": "f20a18c9-6055-4596-aed7-f5e3ff9cd493"
      },
      "outputs": [
        {
          "data": {
            "image/png": "[encoded data removed]",
            "text/plain": [
              "<Figure size 640x480 with 1 Axes>"
            ]
          },
          "metadata": {},
          "output_type": "display_data"
        }
      ],
      "source": [
        "plt.imshow(train_dataset[0][0].numpy().reshape(32,32), cmap='gray');"
      ]
    },
    {
      "cell_type": "code",
      "execution_count": 9,
      "metadata": {
        "id": "Mno8hGG9SVaw"
      },
      "outputs": [],
      "source": [
        "model = nn.Sequential(\n",
        "    nn.Conv2d(1, 32, kernel_size=5, padding=0),\n",
        "    nn.Tanh(),\n",
        "    nn.AvgPool2d(2, stride=2),\n",
        "    nn.Conv2d(32, 64, kernel_size=5),\n",
        "    nn.Tanh(),\n",
        "    nn.AvgPool2d(2, stride=2),\n",
        "    nn.Conv2d(64, 120, kernel_size=5),\n",
        "    nn.Flatten(),\n",
        "    nn.Linear(120, 84),\n",
        "    nn.Tanh(),\n",
        "    nn.Linear(84, 10)\n",
        ")"
      ]
    },
    {
      "cell_type": "code",
      "execution_count": 10,
      "metadata": {
        "colab": {
          "base_uri": "https://localhost:8080/"
        },
        "id": "da8KWlfuswOV",
        "outputId": "3cab0307-1cb0-496a-8a6f-81d6bd6ada7e"
      },
      "outputs": [
        {
          "output_type": "stream",
          "name": "stdout",
          "text": [
            "----------------------------------------------------------------\n",
            "        Layer (type)               Output Shape         Param #\n",
            "================================================================\n",
            "            Conv2d-1           [-1, 32, 28, 28]             832\n",
            "              Tanh-2           [-1, 32, 28, 28]               0\n",
            "         AvgPool2d-3           [-1, 32, 14, 14]               0\n",
            "            Conv2d-4           [-1, 64, 10, 10]          51,264\n",
            "              Tanh-5           [-1, 64, 10, 10]               0\n",
            "         AvgPool2d-6             [-1, 64, 5, 5]               0\n",
            "            Conv2d-7            [-1, 120, 1, 1]         192,120\n",
            "           Flatten-8                  [-1, 120]               0\n",
            "            Linear-9                   [-1, 84]          10,164\n",
            "             Tanh-10                   [-1, 84]               0\n",
            "           Linear-11                   [-1, 10]             850\n",
            "================================================================\n",
            "Total params: 255,230\n",
            "Trainable params: 255,230\n",
            "Non-trainable params: 0\n",
            "----------------------------------------------------------------\n",
            "Input size (MB): 0.00\n",
            "Forward/backward pass size (MB): 0.54\n",
            "Params size (MB): 0.97\n",
            "Estimated Total Size (MB): 1.52\n",
            "----------------------------------------------------------------\n"
          ]
        }
      ],
      "source": [
        "\n",
        "from torchsummary import summary\n",
        "\n",
        "summary(model, input_size=(1, 32, 32), device='cpu')"
      ]
    },
    {
      "cell_type": "code",
      "execution_count": 11,
      "metadata": {
        "colab": {
          "base_uri": "https://localhost:8080/"
        },
        "id": "PUTSESD0xL1o",
        "outputId": "07191cee-c41e-4b10-82a8-483b0c37ef5e"
      },
      "outputs": [
        {
          "output_type": "stream",
          "name": "stdout",
          "text": [
            "torch.Size([1, 1, 32, 32])\n",
            "Layer Conv2d(1, 32, kernel_size=(5, 5), stride=(1, 1)). X shape: torch.Size([1, 32, 28, 28])\n",
            "Layer Tanh(). X shape: torch.Size([1, 32, 28, 28])\n",
            "Layer AvgPool2d(kernel_size=2, stride=2, padding=0). X shape: torch.Size([1, 32, 14, 14])\n",
            "Layer Conv2d(32, 64, kernel_size=(5, 5), stride=(1, 1)). X shape: torch.Size([1, 64, 10, 10])\n",
            "Layer Tanh(). X shape: torch.Size([1, 64, 10, 10])\n",
            "Layer AvgPool2d(kernel_size=2, stride=2, padding=0). X shape: torch.Size([1, 64, 5, 5])\n",
            "Layer Conv2d(64, 120, kernel_size=(5, 5), stride=(1, 1)). X shape: torch.Size([1, 120, 1, 1])\n",
            "Layer Flatten(start_dim=1, end_dim=-1). X shape: torch.Size([1, 120])\n",
            "Layer Linear(in_features=120, out_features=84, bias=True). X shape: torch.Size([1, 84])\n",
            "Layer Tanh(). X shape: torch.Size([1, 84])\n",
            "Layer Linear(in_features=84, out_features=10, bias=True). X shape: torch.Size([1, 10])\n"
          ]
        }
      ],
      "source": [
        "X = train_dataset[0][0]\n",
        "X = X.reshape(1, 1, 32, 32)\n",
        "print(X.shape)\n",
        "for l in model:\n",
        "    X = l(X)\n",
        "    print(\"Layer {}. X shape: {}\".format(l, X.shape))"
      ]
    },
    {
      "cell_type": "code",
      "execution_count": 12,
      "metadata": {
        "colab": {
          "base_uri": "https://localhost:8080/"
        },
        "id": "MZbt-dlVxL47",
        "outputId": "6d9427bc-ce2f-48de-a5b7-8dd9bcccf94b"
      },
      "outputs": [
        {
          "output_type": "stream",
          "name": "stdout",
          "text": [
            "torch.Size([1, 10])\n"
          ]
        }
      ],
      "source": [
        "X = train_dataset[0][0]\n",
        "X = X.reshape(1, 1, 32, 32)\n",
        "y = model(X)\n",
        "print(y.shape)"
      ]
    },
    {
      "cell_type": "code",
      "execution_count": 13,
      "metadata": {
        "id": "81xiTvauxL76"
      },
      "outputs": [],
      "source": [
        "def evaluate_accuracy(data_iter, net):\n",
        "    acc_sum, n = torch.Tensor([0]), 0\n",
        "    for X, y in data_iter:\n",
        "        acc_sum += (net(X).argmax(axis=1) == y).sum()\n",
        "        n += y.shape[0]\n",
        "    return acc_sum.item() / n"
      ]
    },
    {
      "cell_type": "code",
      "execution_count": 14,
      "metadata": {
        "id": "LMRuXkWrxL_A"
      },
      "outputs": [],
      "source": [
        "def train(net, train_iter, test_iter, optimizer, num_epochs):\n",
        "    loss = nn.CrossEntropyLoss()\n",
        "\n",
        "    for epoch in range(num_epochs):\n",
        "        train_l_sum, train_acc_sum, n, start = 0.0, 0.0, 0, time.time()\n",
        "\n",
        "        for X, y in train_iter:\n",
        "            optimizer.zero_grad()\n",
        "            y_hat = net(X)\n",
        "            l = loss(y_hat, y)\n",
        "            l.backward()\n",
        "            optimizer.step()\n",
        "            train_l_sum += l.item()\n",
        "            train_acc_sum += (y_hat.argmax(axis=1) == y).sum().item()\n",
        "            n += y.shape[0]\n",
        "\n",
        "        test_acc = evaluate_accuracy(test_iter, net)\n",
        "        print(f'epoch {epoch + 1}, loss {train_l_sum / n:.4f}, train acc {train_acc_sum / n:.3f}' \\\n",
        "              f', test acc {test_acc:.3f}, time {time.time() - start:.1f} sec')"
      ]
    },
    {
      "cell_type": "code",
      "execution_count": 15,
      "metadata": {
        "colab": {
          "base_uri": "https://localhost:8080/"
        },
        "id": "8PpostaPxaXO",
        "outputId": "1bda3124-4d18-4ed9-9ada-1b664921439c"
      },
      "outputs": [
        {
          "output_type": "stream",
          "name": "stdout",
          "text": [
            "epoch 1, loss 0.0027, train acc 0.751, test acc 0.815, time 107.2 sec\n",
            "epoch 2, loss 0.0018, train acc 0.839, test acc 0.840, time 104.8 sec\n",
            "epoch 3, loss 0.0016, train acc 0.856, test acc 0.854, time 104.4 sec\n",
            "epoch 4, loss 0.0014, train acc 0.867, test acc 0.861, time 104.0 sec\n",
            "epoch 5, loss 0.0014, train acc 0.874, test acc 0.865, time 104.0 sec\n",
            "epoch 6, loss 0.0013, train acc 0.879, test acc 0.868, time 105.3 sec\n",
            "epoch 7, loss 0.0012, train acc 0.885, test acc 0.869, time 104.2 sec\n",
            "epoch 8, loss 0.0012, train acc 0.888, test acc 0.876, time 103.9 sec\n",
            "epoch 9, loss 0.0012, train acc 0.892, test acc 0.875, time 104.2 sec\n",
            "epoch 10, loss 0.0011, train acc 0.896, test acc 0.879, time 105.2 sec\n",
            "epoch 11, loss 0.0011, train acc 0.900, test acc 0.882, time 103.9 sec\n",
            "epoch 12, loss 0.0010, train acc 0.903, test acc 0.883, time 104.2 sec\n",
            "epoch 13, loss 0.0010, train acc 0.905, test acc 0.885, time 104.7 sec\n",
            "epoch 14, loss 0.0010, train acc 0.907, test acc 0.889, time 104.5 sec\n",
            "epoch 15, loss 0.0010, train acc 0.910, test acc 0.889, time 103.7 sec\n",
            "epoch 16, loss 0.0009, train acc 0.912, test acc 0.889, time 104.0 sec\n",
            "epoch 17, loss 0.0009, train acc 0.915, test acc 0.890, time 104.4 sec\n",
            "epoch 18, loss 0.0009, train acc 0.916, test acc 0.888, time 105.5 sec\n",
            "epoch 19, loss 0.0009, train acc 0.919, test acc 0.892, time 103.8 sec\n",
            "epoch 20, loss 0.0008, train acc 0.920, test acc 0.893, time 104.0 sec\n"
          ]
        }
      ],
      "source": [
        "lr, num_epochs = 0.001, 20\n",
        "optimizer = torch.optim.Adam(model.parameters(), lr=lr)\n",
        "train(model, train_iter, test_iter, optimizer, num_epochs)"
      ]
    },
    {
      "cell_type": "code",
      "execution_count": null,
      "metadata": {
        "id": "VZ74XafkxaZ-"
      },
      "outputs": [],
      "source": []
    },
    {
      "cell_type": "code",
      "execution_count": null,
      "metadata": {
        "id": "UYZzW52vxafe"
      },
      "outputs": [],
      "source": []
    },
    {
      "cell_type": "code",
      "execution_count": null,
      "metadata": {
        "id": "0rWljV8gxaif"
      },
      "outputs": [],
      "source": []
    },
    {
      "cell_type": "code",
      "execution_count": null,
      "metadata": {
        "id": "Jy_45wJUxa6r"
      },
      "outputs": [],
      "source": []
    },
    {
      "cell_type": "code",
      "execution_count": null,
      "metadata": {
        "id": "ytjaQGA7xa-M"
      },
      "outputs": [],
      "source": []
    }
  ],
  "metadata": {
    "accelerator": "GPU",
    "colab": {
      "provenance": [],
      "gpuType": "T4"
    },
    "kernelspec": {
      "display_name": "Python 3",
      "name": "python3"
    },
    "language_info": {
      "name": "python"
    }
  },
  "nbformat": 4,
  "nbformat_minor": 0
}